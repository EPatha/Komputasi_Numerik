{
 "cells": [
  {
   "cell_type": "markdown",
   "metadata": {},
   "source": [
    "Diferensiasi Numerik"
   ]
  },
  {
   "cell_type": "markdown",
   "metadata": {},
   "source": [
    "Selisih maju"
   ]
  },
  {
   "cell_type": "code",
   "execution_count": 33,
   "metadata": {},
   "outputs": [
    {
     "name": "stdout",
     "output_type": "stream",
     "text": [
      "Turunan numerik dan analitik serta error relatif pada titik-titik yang diberikan:\n",
      "------------------------------------------------------------\n",
      "untuk x : 1\n",
      "turunan numerik : 12.00001\n",
      "turunan analisis : 12\n",
      "nilai error relatif : 0.00008%\n",
      "------------------------------------------------------------\n",
      "untuk x : 2\n",
      "turunan numerik : 14.00001\n",
      "turunan analisis : 14\n",
      "nilai error relatif : 0.00007%\n",
      "------------------------------------------------------------\n",
      "untuk x : 3\n",
      "turunan numerik : 16.00001\n",
      "turunan analisis : 16\n",
      "nilai error relatif : 0.00006%\n",
      "------------------------------------------------------------\n"
     ]
    }
   ],
   "source": [
    "def f(x):\n",
    "    fungsi_x = x**2 + 10*x + 9\n",
    "    return fungsi_x\n",
    "\n",
    "# RSM = Rumus Selisih Maju\n",
    "def selisih_maju(f,x, h = 1e-5):\n",
    "    RSM = (f(x + h) - f(x)) / h\n",
    "    return RSM\n",
    "\n",
    "titik_x = [1, 2, 3]\n",
    "h = 1e-5\n",
    "\n",
    "def turunan_fungsi(x):\n",
    "    turunan_fx = 2*x + 10\n",
    "    return turunan_fx\n",
    "\n",
    "print(\"Turunan numerik dan analitik serta error relatif pada titik-titik yang diberikan:\")\n",
    "print(\"-\" * 60)\n",
    "\n",
    "for x in titik_x:\n",
    "    turunan_numerik = selisih_maju(f, x, h)\n",
    "    analisis_numerik = turunan_fungsi(x)\n",
    "    relative_error_differens = abs(turunan_numerik - analisis_numerik) / abs(analisis_numerik) * 100\n",
    "\n",
    "    print(f\"untuk x : {x}\")\n",
    "    print(f\"turunan numerik : {turunan_numerik:.5f}\")\n",
    "    print(f\"turunan analisis : {analisis_numerik}\")\n",
    "    print(f\"nilai error relatif : {relative_error_differens:.5f}%\")\n",
    "    print(f\"-\" * 60)\n"
   ]
  },
  {
   "cell_type": "markdown",
   "metadata": {},
   "source": [
    "Validasi"
   ]
  },
  {
   "cell_type": "code",
   "execution_count": 17,
   "metadata": {},
   "outputs": [
    {
     "name": "stdout",
     "output_type": "stream",
     "text": [
      "------------------------------------------------------------\n",
      "x = 1\n",
      "turunan analitik f'(1) = 12\n",
      "turunan numerik f'(1) = 11.999999999989795\n",
      "nilai error relatif = 0.0000000001\n",
      "------------------------------------------------------------\n",
      "x = 2\n",
      "turunan analitik f'(2) = 14\n",
      "turunan numerik f'(2) = 14.000000000002897\n",
      "nilai error relatif = 0.0000000000\n",
      "------------------------------------------------------------\n",
      "x = 3\n",
      "turunan analitik f'(3) = 16\n",
      "turunan numerik f'(3) = 15.999999999749546\n",
      "nilai error relatif = 0.0000000016\n",
      "------------------------------------------------------------\n"
     ]
    }
   ],
   "source": [
    "def f(x):\n",
    "    sebuah_fungsi_2 = x**2 + x*10\n",
    "    return sebuah_fungsi_2\n",
    "\n",
    "def turunan_fungsi(x):\n",
    "    turunan_fungsi_2 = x*2 + 10\n",
    "    return turunan_fungsi_2\n",
    "\n",
    "def turunan_numerik(x, h= 1e-5):\n",
    "    CDM = (f(x + h) - f(x - h)) / (2*h)\n",
    "    return CDM\n",
    "\n",
    "def nilai_error_relatif(analitik, numerik):\n",
    "    nilai_error = abs(analitik - numerik) / abs(analitik) * 100\n",
    "    return nilai_error\n",
    "\n",
    "titik_nilai = [1, 2, 3]\n",
    "\n",
    "results = []\n",
    "\n",
    "print(\"-\" * 60)\n",
    "for z in titik_nilai:\n",
    "    analitik = turunan_fungsi(z)\n",
    "    numerik  = turunan_numerik(z)\n",
    "    error = nilai_error_relatif(analitik, numerik)\n",
    "    results.append((z, analitik, numerik, error))\n",
    "\n",
    "    print(f\"x = {z}\")\n",
    "    print(f\"turunan analitik f'({z}) = {analitik}\")\n",
    "    print(f\"turunan numerik f'({z}) = {numerik}\") \n",
    "    print(f\"nilai error relatif = {error:.10f}\")\n",
    "    print(\"-\" * 60)"
   ]
  }
 ],
 "metadata": {
  "kernelspec": {
   "display_name": "Python 3",
   "language": "python",
   "name": "python3"
  },
  "language_info": {
   "codemirror_mode": {
    "name": "ipython",
    "version": 3
   },
   "file_extension": ".py",
   "mimetype": "text/x-python",
   "name": "python",
   "nbconvert_exporter": "python",
   "pygments_lexer": "ipython3",
   "version": "3.11.9"
  }
 },
 "nbformat": 4,
 "nbformat_minor": 2
}
