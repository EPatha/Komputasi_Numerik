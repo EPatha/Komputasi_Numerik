{
 "cells": [
  {
   "cell_type": "markdown",
   "metadata": {},
   "source": [
    "Problem terapan 3"
   ]
  },
  {
   "cell_type": "markdown",
   "metadata": {},
   "source": [
    "No 1"
   ]
  },
  {
   "cell_type": "code",
   "execution_count": 11,
   "metadata": {},
   "outputs": [
    {
     "name": "stdout",
     "output_type": "stream",
     "text": [
      "prediksi penjualan logam mulia adalah 3604 unit\n"
     ]
    }
   ],
   "source": [
    "data_Regresi = {\n",
    "    'bulan': [1, 2, 3, 4, 5, 6, 7 ,8 ,9 ,10],\n",
    "    'harga': [39.4, 53.5, 58, 42.5, 44.4, 60.3, 40.8, 63.9, 55.8, 44.4, 75.2, 59.4],\n",
    "    'penjualan': [3615, 3842, 3729, 2980, 3108, 4168, 3473, 4224, 3672, 3459, 3600, 4200]\n",
    "}\n",
    "\n",
    "price = data_Regresi['harga']\n",
    "demands = data_Regresi['penjualan']\n",
    "\n",
    "mean_price = sum(price) / len(price)\n",
    "mean_demands = sum(demands) / len(demands)\n",
    "\n",
    "x = sum((price[i] - mean_price) * (demands[i] - mean_demands) for i in range(len(price)))\n",
    "y = sum((price[i] - mean_price)**2 for i in range(len(price)))\n",
    "b = x / y\n",
    "\n",
    "a = mean_demands - b * mean_price\n",
    "\n",
    "predicted_price = 50 \n",
    "predicted_demands = a + b * predicted_price\n",
    "\n",
    "print(f\"prediksi penjualan logam mulia adalah {predicted_demands:.0f} unit\")"
   ]
  },
  {
   "cell_type": "markdown",
   "metadata": {},
   "source": [
    "No 2"
   ]
  },
  {
   "cell_type": "code",
   "execution_count": 20,
   "metadata": {},
   "outputs": [
    {
     "name": "stdout",
     "output_type": "stream",
     "text": [
      "pqegjnpgnp 3867.85 unit\n"
     ]
    }
   ],
   "source": [
    "data_Regresi = {\n",
    "    'bulan': [1, 2, 3, 4, 5, 6, 7, 8, 9, 10, 11, 12],\n",
    "    'harga': [39.4, 53.5, 58, 42.5, 44.4, 60.3, 40.8, 63.9, 55.8, 44.4, 75.2, 59.4],\n",
    "    'penjualan': [3615, 3842, 3729, 2980, 3108, 4168, 3473, 4224, 3672, 3459, 3600, 4200]\n",
    "}\n",
    "\n",
    "x1, y1 = data_Regresi['harga'][0], data_Regresi['penjualan'][0]\n",
    "x2, y2 = data_Regresi['harga'][1], data_Regresi['penjualan'][1]\n",
    "x3, y3 = data_Regresi['harga'][2], data_Regresi['penjualan'][2]\n",
    "\n",
    "def interpolasi_kuadrat(x1, y1, x2, y2, x3, y3):\n",
    "    A = [\n",
    "        [x1**2, x1, 1],\n",
    "        [x2**2, x2, 1],\n",
    "        [x3**2, x3, 1],\n",
    "    ]\n",
    "    B = [y1, y2, y3]\n",
    "\n",
    "    determinan_A = A[0][0] * (A[1][1] * A[2][2] - A[1][2] * A[2][1]) - A[0][1] * (A[1][0] * A[2][2] - A[1][2] * A[2][0]) + A[0][2] * (A[1][0] * A[2][1] - A[1][1] * A[2][0])\n",
    "    Adjoin_A = [\n",
    "        [(A[1][1] * A[2][2] - A[1][2] * A[2][1]), -(A[0][1] * A[2][2] - A[0][2] * A[2][1]), (A[0][1] * A[1][2] - A[0][2] * A[1][1])],\n",
    "        [-(A[1][0] * A[2][2] - A[1][2] * A[2][0]), (A[0][0] * A[2][2] - A[0][2] * A[2][0]), -(A[0][0] * A[1][2] - A[0][2] * A[1][0])],\n",
    "        [(A[1][0] * A[2][1] - A[1][1] * A[2][0]), -(A[0][0] * A[2][1] - A[0][1] * A[2][0]), (A[0][0] * A[1][1] - A[0][1] * A[1][0])]\n",
    "    ]\n",
    "\n",
    "    invA = [[Adjoin_A[j][i] / determinan_A for i in range(3)] for j in range(3)]\n",
    "    \n",
    "    a = sum(invA[0][j] * B[j] for j in range(3))\n",
    "    b = sum(invA[1][j] * B[j] for j in range(3))\n",
    "    c = sum(invA[2][j] * B[j] for j in range(3))\n",
    "\n",
    "    return a, b, c\n",
    "\n",
    "a, b, c = interpolasi_kuadrat(x1, y1, x2, y2, x3, y3)\n",
    "\n",
    "prediksi_harga = 50\n",
    "\n",
    "prediksi_penjualan = a * prediksi_harga**2 + b * prediksi_harga + c\n",
    "\n",
    "print(f\"Prediksi penjualan {prediksi_penjualan:.2f} unit\")"
   ]
  }
 ],
 "metadata": {
  "kernelspec": {
   "display_name": "Python 3 (ipykernel)",
   "language": "python",
   "name": "python3"
  },
  "language_info": {
   "codemirror_mode": {
    "name": "ipython",
    "version": 3
   },
   "file_extension": ".py",
   "mimetype": "text/x-python",
   "name": "python",
   "nbconvert_exporter": "python",
   "pygments_lexer": "ipython3",
   "version": "3.12.4"
  }
 },
 "nbformat": 4,
 "nbformat_minor": 4
}
