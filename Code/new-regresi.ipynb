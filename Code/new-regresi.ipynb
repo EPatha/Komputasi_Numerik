{
 "cells": [
  {
   "cell_type": "markdown",
   "metadata": {},
   "source": [
    "Memprediksi waktu tempuh ke udinus dengan jarak 10Km\n",
    "dibawah ini menggunakan cara Regresi Linear Sederhana"
   ]
  },
  {
   "cell_type": "code",
   "execution_count": 1,
   "metadata": {},
   "outputs": [
    {
     "name": "stdout",
     "output_type": "stream",
     "text": [
      "hasil prediksi waktu dengan jarak 10 km : 19.77 menit\n",
      "Nilai aktual waktu tempuh pada jarak 10 km: 20 menit\n",
      "Error relatif: 1.13%\n"
     ]
    }
   ],
   "source": [
    "data_regresi = {\n",
    "    'no': [1, 2, 3, 4, 5, 6, 7, 8, 9, 10, 11, 12],\n",
    "    'jarak': [2, 8, 30, 7, 15, 5, 10, 2, 2, 15, 14, 32],\n",
    "    'waktu': [10, 15, 50, 13, 30, 10, 20, 5, 5, 30, 30, 55]\n",
    "}\n",
    "\n",
    "data_x = data_regresi['jarak']\n",
    "data_y = data_regresi['waktu']\n",
    "\n",
    "n = len(data_x)\n",
    "\n",
    "sigma_x = sum(data_x)\n",
    "sigma_y = sum(data_y)\n",
    "sigma_xy = sum(x * y for x, y in zip(data_x, data_y))\n",
    "sigma_xx = sum(x ** 2 for x in data_x)\n",
    "\n",
    "mean_x = sigma_x / n\n",
    "mean_y = sigma_y / n\n",
    "\n",
    "b = (n * sigma_xy - sigma_x * sigma_y) / (n * sigma_xx - sigma_x**2)\n",
    "a = mean_y - b * mean_x\n",
    "\n",
    "def prediksi_waktu(x):\n",
    "    return a + b * x\n",
    "\n",
    "new_jarak = 10\n",
    "\n",
    "prediksi = prediksi_waktu(new_jarak)\n",
    "\n",
    "prediksi_waktu_2 = a + b * 10\n",
    "\n",
    "nilai_aktual = data_regresi['waktu'][6]\n",
    "\n",
    "error_relatif = abs(prediksi_waktu_2 - nilai_aktual) / nilai_aktual\n",
    "print(f\"hasil prediksi waktu dengan jarak 10 km : {prediksi:.2f} menit\")\n",
    "print(f\"Nilai aktual waktu tempuh pada jarak 10 km: {nilai_aktual} menit\")\n",
    "print(f\"Error relatif: {error_relatif:.2%}\")\n"
   ]
  },
  {
   "cell_type": "markdown",
   "metadata": {},
   "source": [
    "interpolasi linear"
   ]
  },
  {
   "cell_type": "code",
   "execution_count": null,
   "metadata": {},
   "outputs": [],
   "source": []
  },
  {
   "cell_type": "code",
   "execution_count": 2,
   "metadata": {},
   "outputs": [
    {
     "name": "stdout",
     "output_type": "stream",
     "text": [
      "Prediksi waktu dengan jarak 10km : 18.18 menit\n",
      "error relative : 9.09%\n",
      "nilai waktu pada jarak 10km : 20 menit\n"
     ]
    }
   ],
   "source": [
    "data_regresi = {\n",
    "    'no': [1, 2, 3, 4, 5, 6, 7, 8, 9, 10, 11, 12],\n",
    "    'jarak': [2, 8, 30, 7, 15, 5, 10, 2, 2, 15, 14, 32],\n",
    "    'waktu': [10, 15, 50, 13, 30, 10, 20, 5, 5, 30, 30, 55],\n",
    "}\n",
    "\n",
    "data_x = data_regresi['jarak']\n",
    "data_y = data_regresi['waktu']\n",
    "x = 10\n",
    "for i in range(len(data_x) - 1):\n",
    "    if data_x[i] <= x <= data_x[i + 1]:\n",
    "        x1 = data_x[i]\n",
    "        y1 = data_y[i]\n",
    "        x2 = data_x[i + 1]\n",
    "        y2 = data_y[i + 1]\n",
    "        break\n",
    "\n",
    "y = y1 + ((x - x1) * (y2 - y1) / (x2 - x1))\n",
    "\n",
    "nilai_waktu  = data_regresi['waktu'][6]\n",
    "\n",
    "interpolasi_linear_relativeError = abs(y - nilai_waktu) / nilai_waktu * 100\n",
    "\n",
    "print(f\"Prediksi waktu dengan jarak 10km : {y:.2f} menit\")\n",
    "print(f\"error relative : {interpolasi_linear_relativeError:.2f}%\")\n",
    "print(f\"nilai waktu pada jarak 10km : {nilai_waktu} menit\")"
   ]
  },
  {
   "cell_type": "markdown",
   "metadata": {},
   "source": [
    "Interpolasi kuadrat"
   ]
  },
  {
   "cell_type": "code",
   "execution_count": 3,
   "metadata": {},
   "outputs": [
    {
     "name": "stdout",
     "output_type": "stream",
     "text": [
      "Koefisien: a= -0.07, b= 3.79, c= -10.71\n",
      "Prediksi waktu tempuh untuk jarak 10 km: 20 menit\n",
      "Nilai aktual: 20 menit\n",
      "Error relatif: 0.00%\n"
     ]
    }
   ],
   "source": [
    "data_regresi = {\n",
    "    'no': [1, 2, 3, 4, 5, 6, 7, 8, 9, 10, 11, 12],\n",
    "    'jarak': [2, 8, 30, 7, 15, 5, 10, 2, 2, 15, 14, 32],\n",
    "    'waktu': [10, 15, 50, 13, 30, 10, 20, 5, 5, 30, 30, 55]\n",
    "}\n",
    "\n",
    "# Memilih tiga titik data yang mengapit 10 km\n",
    "# Berdasarkan data yang ada, kita dapat memilih (8, 15), (10, 20), dan (15, 30)\n",
    "\n",
    "x1, y1 = 8, 15\n",
    "x2, y2 = 10, 20\n",
    "x3, y3 = 15, 30\n",
    "xx  = x1**2\n",
    "x2x = x2**2\n",
    "x3x = x3**2\n",
    "\n",
    "# Menyusun matriks dan vektor untuk sistem persamaan linear\n",
    "A = [\n",
    "    [xx, x1, 1],\n",
    "    [x2x, x2, 1],\n",
    "    [x3x, x3, 1]\n",
    "]\n",
    "\n",
    "B = [y1, y2, y3]\n",
    "\n",
    "# Menyelesaikan sistem persamaan linear secara manual untuk menemukan koefisien a, b, dan c\n",
    "# Menggunakan eliminasi Gauss\n",
    "\n",
    "def gauss_jordan(A, B):\n",
    "    n = len(B)\n",
    "    for i in range(n):\n",
    "        # Mencari baris dengan elemen maksimum di kolom i\n",
    "        max_row = max(range(i, n), key=lambda r: abs(A[r][i]))\n",
    "        # Tukar baris maksimum dengan baris saat ini\n",
    "        A[i], A[max_row] = A[max_row], A[i]\n",
    "        B[i], B[max_row] = B[max_row], B[i]\n",
    "\n",
    "        # Normalisasi baris pivot\n",
    "        pivot = A[i][i]\n",
    "        A[i] = [x / pivot for x in A[i]]\n",
    "        B[i] /= pivot\n",
    "\n",
    "        # Eliminasi ke bawah dan ke atas\n",
    "        for j in range(n):\n",
    "            if i != j:\n",
    "                factor = A[j][i]\n",
    "                A[j] = [A[j][k] - factor * A[i][k] for k in range(n)]\n",
    "                B[j] -= factor * B[i]\n",
    "\n",
    "    return B\n",
    "\n",
    "koefisien = gauss_jordan(A, B)\n",
    "a, b, c = koefisien\n",
    "\n",
    "# Menggunakan polinomial kuadrat untuk memperkirakan waktu pada 10 km\n",
    "x = 10\n",
    "prediksi_waktu_3 = a * x**2 + b * x + c\n",
    "\n",
    "# Nilai aktual\n",
    "nilai_asli = 20\n",
    "\n",
    "# Menghitung error relatif\n",
    "nilai_relative_error = abs(prediksi_waktu_3 - nilai_asli) / nilai_asli * 100\n",
    "\n",
    "print(f\"Koefisien: a= {a:.2f}, b= {b:.2f}, c= {c:.2f}\")\n",
    "print(f\"Prediksi waktu tempuh untuk jarak 10 km: {prediksi_waktu_3:.0f} menit\")\n",
    "print(f\"Nilai aktual: {nilai_asli} menit\")\n",
    "print(f\"Error relatif: {nilai_relative_error:.2f}%\")\n"
   ]
  }
 ],
 "metadata": {
  "kernelspec": {
   "display_name": "Python 3 (ipykernel)",
   "language": "python",
   "name": "python3"
  },
  "language_info": {
   "codemirror_mode": {
    "name": "ipython",
    "version": 3
   },
   "file_extension": ".py",
   "mimetype": "text/x-python",
   "name": "python",
   "nbconvert_exporter": "python",
   "pygments_lexer": "ipython3",
   "version": "3.12.4"
  }
 },
 "nbformat": 4,
 "nbformat_minor": 4
}
