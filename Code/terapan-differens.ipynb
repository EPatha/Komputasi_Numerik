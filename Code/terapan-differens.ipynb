{
 "cells": [
  {
   "cell_type": "markdown",
   "metadata": {},
   "source": [
    "Problem terapan 1"
   ]
  },
  {
   "cell_type": "markdown",
   "metadata": {},
   "source": [
    "No 1"
   ]
  },
  {
   "cell_type": "code",
   "execution_count": 25,
   "metadata": {},
   "outputs": [
    {
     "name": "stdout",
     "output_type": "stream",
     "text": [
      "kecepatan antara frame 1 dengan 2 adalah 440.00 km/h\n",
      "kecepatan antara frame 2 dengan 3 adalah 520.00 km/h\n",
      "kecepatan antara frame 3 dengan 4 adalah 600.00 km/h\n",
      "kecepatan antara frame 4 dengan 5 adalah 680.00 km/h\n",
      "kecepatan antara frame 5 dengan 6 adalah 760.00 km/h\n",
      "kecepatan antara frame 6 dengan 7 adalah 840.00 km/h\n",
      "kecepatan antara frame 7 dengan 8 adalah 920.00 km/h\n",
      "kecepatan antara frame 8 dengan 9 adalah 1000.00 km/h\n",
      "kecepatan antara frame 9 dengan 10 adalah 1080.00 km/h\n"
     ]
    }
   ],
   "source": [
    "data_Differensial = {\n",
    "    'frame': [1, 2, 3, 4, 5, 6, 7, 8, 9, 10],\n",
    "    'sumbu_x': [100, 144, 196, 256, 324, 400, 484, 576, 676, 784],\n",
    "}\n",
    "\n",
    "# Data yg diketahui\n",
    "long_roads = 50\n",
    "pixel_resolution = 1080\n",
    "frame_sec = 60\n",
    "\n",
    "real_range_by_pixel = long_roads / pixel_resolution\n",
    "\n",
    "velocity_KMH = []\n",
    "\n",
    "for i in range(len(data_Differensial['sumbu_x']) - 1):\n",
    "    pixel = data_Differensial['sumbu_x'][i + 1] - data_Differensial['sumbu_x'][i]\n",
    "    meter = pixel * real_range_by_pixel\n",
    "    time = 1 / frame_sec\n",
    "\n",
    "    velocity_MPS = meter / time\n",
    "\n",
    "    velocity_KMH.append(velocity_MPS * 3.6)\n",
    "\n",
    "for i, velocity in enumerate(velocity_KMH):\n",
    "    print(f\"kecepatan antara frame {i + 1} dengan {i + 2} adalah {velocity:.2f} km/h\")\n"
   ]
  },
  {
   "cell_type": "markdown",
   "metadata": {},
   "source": [
    "No 2"
   ]
  },
  {
   "cell_type": "code",
   "execution_count": 27,
   "metadata": {},
   "outputs": [
    {
     "name": "stdout",
     "output_type": "stream",
     "text": [
      "Mobil tersebut perlu di tilang \n"
     ]
    }
   ],
   "source": [
    "data_Differensial = {\n",
    "    'frame': [1, 2, 3, 4, 5, 6, 7, 8, 9, 10],\n",
    "    'sumbu_x': [100, 144, 196, 256, 324, 400, 484, 576, 676, 784],\n",
    "}\n",
    "\n",
    "velocity_Limit = 40\n",
    "long_roads = 50\n",
    "pixel_resolution = 1080\n",
    "frame_sec = 60\n",
    "\n",
    "real_range_by_pixel = long_roads / pixel_resolution\n",
    "\n",
    "velocity_KMH = []\n",
    "\n",
    "for i in range(len(data_Differensial['sumbu_x']) - 1):\n",
    "    pixel = data_Differensial['sumbu_x'][i + 1] - data_Differensial['sumbu_x'][i]\n",
    "    meter = pixel * real_range_by_pixel\n",
    "    time = 1 / frame_sec\n",
    "\n",
    "    velocity_MPS = meter / time\n",
    "\n",
    "    velocity_KMH.append(velocity_MPS * 3.6)\n",
    "\n",
    "traffic_ticket = False\n",
    "for velocity in velocity_KMH:\n",
    "    if velocity > velocity_Limit:\n",
    "        traffic_ticket = True\n",
    "        break\n",
    "\n",
    "if traffic_ticket:\n",
    "    print(f\"Mobil tersebut perlu di tilang \")\n",
    "else:\n",
    "    print(f\"Mobil tersebut tidak perlu di tilang\")\n",
    "\n",
    "\n"
   ]
  }
 ],
 "metadata": {
  "kernelspec": {
   "display_name": "Python 3 (ipykernel)",
   "language": "python",
   "name": "python3"
  },
  "language_info": {
   "codemirror_mode": {
    "name": "ipython",
    "version": 3
   },
   "file_extension": ".py",
   "mimetype": "text/x-python",
   "name": "python",
   "nbconvert_exporter": "python",
   "pygments_lexer": "ipython3",
   "version": "3.12.4"
  }
 },
 "nbformat": 4,
 "nbformat_minor": 4
}
